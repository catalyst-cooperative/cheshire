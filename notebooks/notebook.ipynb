{
 "cells": [
  {
   "cell_type": "code",
   "execution_count": null,
   "id": "fd64b637-b64a-4275-843c-c4155d6d2c29",
   "metadata": {},
   "outputs": [],
   "source": [
    "%load_ext autoreload\n",
    "%autoreload 3"
   ]
  },
  {
   "cell_type": "code",
   "execution_count": null,
   "id": "30739743-9bcf-4bd5-b9d1-dee0d2e8341a",
   "metadata": {},
   "outputs": [],
   "source": [
    "from cheshire.dummy import do_something\n",
    "\n",
    "assert do_something(a=2, b=2) == 5"
   ]
  },
  {
   "cell_type": "code",
   "execution_count": null,
   "id": "5077abcc-5eb5-4168-b8d7-9089b7a254d6",
   "metadata": {},
   "outputs": [],
   "source": []
  }
 ],
 "metadata": {
  "kernelspec": {
   "display_name": "Python 3 (ipykernel)",
   "language": "python",
   "name": "python3"
  },
  "language_info": {
   "codemirror_mode": {
    "name": "ipython",
    "version": 3
   },
   "file_extension": ".py",
   "mimetype": "text/x-python",
   "name": "python",
   "nbconvert_exporter": "python",
   "pygments_lexer": "ipython3",
   "version": "3.11.3"
  }
 },
 "nbformat": 4,
 "nbformat_minor": 5
}
